{
 "metadata": {
  "language_info": {
   "codemirror_mode": {
    "name": "ipython",
    "version": 3
   },
   "file_extension": ".py",
   "mimetype": "text/x-python",
   "name": "python",
   "nbconvert_exporter": "python",
   "pygments_lexer": "ipython3",
   "version": "3.8.5"
  },
  "orig_nbformat": 4,
  "kernelspec": {
   "name": "python3",
   "display_name": "Python 3.8.5 64-bit ('base': conda)"
  },
  "interpreter": {
   "hash": "b3ba2566441a7c06988d0923437866b63cedc61552a5af99d1f4fb67d367b25f"
  }
 },
 "nbformat": 4,
 "nbformat_minor": 2,
 "cells": [
  {
   "source": [
    "# 5-1 Naive Bayes\n",
    "# language : Python\n",
    "https://www.youtube.com/watch?v=BqUmKsfSWho&list=PLqnslRFeH2Upcrywf-u2etjdxxkL8nl7E&index=5"
   ],
   "cell_type": "markdown",
   "metadata": {}
  },
  {
   "source": [
    "## 0. 모델 기초"
   ],
   "cell_type": "markdown",
   "metadata": {}
  },
  {
   "source": [
    "### Bayes Theorem\n",
    "$$ P(A|B) = \\frac{P(B|A) \\times P(A)}{P(B)} $$\n",
    "\n",
    "\n",
    "### In our case\n",
    "$$ P(y|X) = \\frac{P(X|y) \\times P(y)}{P(X)} $$"
   ],
   "cell_type": "markdown",
   "metadata": {}
  },
  {
   "source": [
    "### with feature vector X\n",
    "$$ X = (x_1, x_2, x_3, \\ldots ,x_n) $$\n",
    "\n",
    "### Assume that all features are mutually independent\n",
    "$$ P(y|X) = \\frac{P(x_1|y) \\cdot P(x_2|y) \\cdots P(x_n|y) \\cdot P(y)}{P(X)} $$\n",
    "\n",
    "### Select class with highest probability\n",
    "$$ \\begin{align*} y &= arg \\max_y P(y|X) \\\\  &= arg \\max_y P(x_1|y) \\cdot P(x_2|y) \\cdots P(x_n|y) \\cdot P(y) \\\\ &= arg \\max_y log(P(x_1|y)) + log(P(x_2|y)) + \\cdots + log(P(x_n|y)) + log(P(y))\\end{align*} $$"
   ],
   "cell_type": "markdown",
   "metadata": {}
  },
  {
   "source": [],
   "cell_type": "markdown",
   "metadata": {}
  }
 ]
}