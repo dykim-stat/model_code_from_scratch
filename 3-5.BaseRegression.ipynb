{
 "metadata": {
  "language_info": {
   "codemirror_mode": {
    "name": "ipython",
    "version": 3
   },
   "file_extension": ".py",
   "mimetype": "text/x-python",
   "name": "python",
   "nbconvert_exporter": "python",
   "pygments_lexer": "ipython3",
   "version": "3.8.5"
  },
  "orig_nbformat": 4,
  "kernelspec": {
   "name": "python3",
   "display_name": "Python 3.8.5 64-bit ('base': conda)"
  },
  "interpreter": {
   "hash": "b3ba2566441a7c06988d0923437866b63cedc61552a5af99d1f4fb67d367b25f"
  }
 },
 "nbformat": 4,
 "nbformat_minor": 2,
 "cells": [
  {
   "source": [
    "# 3-1 Base Regression\n",
    "# language : Python\n",
    "https://www.youtube.com/watch?v=PC7cVBbU7UQ&list=PLqnslRFeH2Upcrywf-u2etjdxxkL8nl7E&index=4\n",
    "\n",
    "Linear regression 이랑 Logistic regression 을 class 상속을 이용해서 구조 간단하게 만들어보기 "
   ],
   "cell_type": "markdown",
   "metadata": {}
  },
  {
   "cell_type": "code",
   "execution_count": null,
   "metadata": {},
   "outputs": [],
   "source": [
    "class BaseRegression:\n",
    "    \n",
    "    def __init__(self, lr=0.001, n_iters=1000):\n",
    "        self.lr = lr\n",
    "        self.n_iters = n_iters\n",
    "        self.weights = None\n",
    "        self.bias = None\n",
    "\n",
    "    def fit(self, X, y):\n",
    "        n_samples, n_features = X.shape\n",
    "\n",
    "        # init parameters\n",
    "        self.weights = np.zeros(n_features)\n",
    "        self.bias = 0\n",
    "\n",
    "        # gradient descent\n",
    "        for _ in range(self.n_iters):\n",
    "            y_predicted = self._approximation(X, self.weights, self.bias)\n",
    "\n",
    "            # compute gradients\n",
    "            dw = (1 / n_samples) * np.dot(X.T, (y_predicted - y))\n",
    "            db = (1 / n_samples) * np.sum(y_predicted - y)\n",
    "\n",
    "            # update parameters\n",
    "            self.weights -= self.lr * dw\n",
    "            self.bias -= self.lr * db\n",
    "\n",
    "    def predict(self, X):\n",
    "        return self._predict(X, self.weights, self.bias)\n",
    "\n",
    "    def _approximation(self, X, w, b):\n",
    "        raise NotImplementedError()\n",
    "\n",
    "    def _predict(self, X, w, b):\n",
    "        raise NotImplementedError()\n",
    "\n",
    "class LinearRegression(BaseRegression):\n",
    "\n",
    "    def _approximation(self, X, w, b):\n",
    "        return np.dot(X, w) + b\n",
    "\n",
    "    def predict(self, X):\n",
    "        return np.dot(X, w) + b\n",
    "\n",
    "\n",
    "\n",
    "class LogisticRegression(BaseRegression):\n",
    "\n",
    "    def _approximation(self, X, w, b):\n",
    "        linear_model = np.dot(X, w) + b\n",
    "        return self._sigmoid(linear_model)\n",
    "\n",
    "    def _predict(self, X):\n",
    "        lonear_model = np.dot(X, w) + b\n",
    "        y_predicted = self._sigmoid(linear_model)\n",
    "        y_predicted_cls = [1 if i > 0.5 else 0 for i in y_predicted]\n",
    "        return y_predicted_cls\n",
    "\n",
    "    def _sigmoid(self, x):\n",
    "        return 1 / (1 + np.exp(-x))\n"
   ]
  },
  {
   "cell_type": "code",
   "execution_count": null,
   "metadata": {},
   "outputs": [],
   "source": []
  },
  {
   "cell_type": "code",
   "execution_count": null,
   "metadata": {},
   "outputs": [],
   "source": []
  },
  {
   "source": [
    "## 4. 배운거 정리 & 느낀점"
   ],
   "cell_type": "markdown",
   "metadata": {}
  },
  {
   "source": [
    "### NotImplementedError"
   ],
   "cell_type": "markdown",
   "metadata": {}
  },
  {
   "source": [
    "상위 클래스를 설계할 때, 하위클래스에서 반드시 오버라이드하여 상세하게 구현해야 하는 메서드를 명시하고자 하려면, 해당 메서드의 내용으로 `raise NonImplementedError(메시지)`만 넣어 놓게 됩니다."
   ],
   "cell_type": "markdown",
   "metadata": {}
  }
 ]
}