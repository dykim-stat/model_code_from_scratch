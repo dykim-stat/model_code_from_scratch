{
 "metadata": {
  "language_info": {
   "codemirror_mode": {
    "name": "ipython",
    "version": 3
   },
   "file_extension": ".py",
   "mimetype": "text/x-python",
   "name": "python",
   "nbconvert_exporter": "python",
   "pygments_lexer": "ipython3",
   "version": "3.8.5"
  },
  "orig_nbformat": 4,
  "kernelspec": {
   "name": "python3",
   "display_name": "Python 3.8.5 64-bit ('base': conda)"
  },
  "interpreter": {
   "hash": "b3ba2566441a7c06988d0923437866b63cedc61552a5af99d1f4fb67d367b25f"
  }
 },
 "nbformat": 4,
 "nbformat_minor": 2,
 "cells": [
  {
   "source": [
    "# 1. KNN k-nearest neighbor\n",
    "## Language R -> Python\n",
    "source : https://anderfernandez.com/en/blog/code-knn-in-r/"
   ],
   "cell_type": "markdown",
   "metadata": {}
  },
  {
   "source": [
    "## 1. 모델구성"
   ],
   "cell_type": "markdown",
   "metadata": {}
  },
  {
   "source": [
    "아직 파이썬에 대한 자료형, 함수구조에 대한 이해가 부족해서 아무것도 없이 짜기에는 너무 어렵다.......실력이 더늘면 다시 짜러 돌아오겠습니다. R -> Python은 너무 어렵다!"
   ],
   "cell_type": "markdown",
   "metadata": {}
  },
  {
   "cell_type": "code",
   "execution_count": 6,
   "metadata": {},
   "outputs": [],
   "source": [
    "import numpy as np\n",
    "\n",
    "def euclidean_distance(a, b) :\n",
    "    # we check that they have the same number of ovservation\n",
    "    if len(a)==len(b):\n",
    "        return np.sqrt(np.sum((a-b)**2))\n",
    "    else:\n",
    "        raise ValueError('Vectors must be of the same length')\n",
    "# euclidean_distance(np.array([1,3]),np.array([4,5,6]))"
   ]
  },
  {
   "cell_type": "code",
   "execution_count": 18,
   "metadata": {},
   "outputs": [
    {
     "output_type": "error",
     "ename": "SyntaxError",
     "evalue": "invalid syntax (<ipython-input-18-2b0e1b779139>, line 2)",
     "traceback": [
      "\u001b[1;36m  File \u001b[1;32m\"<ipython-input-18-2b0e1b779139>\"\u001b[1;36m, line \u001b[1;32m2\u001b[0m\n\u001b[1;33m    def nearest_neighbors(x, obs, k, FUN)\u001b[0m\n\u001b[1;37m                                         ^\u001b[0m\n\u001b[1;31mSyntaxError\u001b[0m\u001b[1;31m:\u001b[0m invalid syntax\n"
     ]
    }
   ],
   "source": [
    "## Fine the k nearest neighbors\n",
    "def nearest_neighbors(x, obs, k, FUN)\n",
    "\n",
    "    if x.shape[1] != obs.shape:\n",
    "        raise ValueError('Data must have the same number of variables')\n",
    "\n",
    "    \n"
   ]
  },
  {
   "cell_type": "code",
   "execution_count": 16,
   "metadata": {},
   "outputs": [
    {
     "output_type": "execute_result",
     "data": {
      "text/plain": [
       "(4,)"
      ]
     },
     "metadata": {},
     "execution_count": 16
    }
   ],
   "source": [
    "x = X_train\n",
    "obs = X_test[1,]\n",
    "obs.shape"
   ]
  },
  {
   "cell_type": "code",
   "execution_count": 9,
   "metadata": {},
   "outputs": [],
   "source": [
    "import numpy as np\n",
    "from sklearn import datasets\n",
    "from sklearn.model_selection import train_test_split\n",
    "\n",
    "iris = datasets.load_iris()\n",
    "X, y = iris.data, iris.target\n",
    "X_train, X_test, y_train, y_test = train_test_split(X, y, test_size=0.2, random_state=1234)"
   ]
  }
 ]
}