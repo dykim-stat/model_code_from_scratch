{
 "metadata": {
  "language_info": {
   "codemirror_mode": {
    "name": "ipython",
    "version": 3
   },
   "file_extension": ".py",
   "mimetype": "text/x-python",
   "name": "python",
   "nbconvert_exporter": "python",
   "pygments_lexer": "ipython3",
   "version": "3.8.5"
  },
  "orig_nbformat": 4,
  "kernelspec": {
   "name": "python3",
   "display_name": "Python 3.8.5 64-bit ('base': conda)"
  },
  "interpreter": {
   "hash": "b3ba2566441a7c06988d0923437866b63cedc61552a5af99d1f4fb67d367b25f"
  }
 },
 "nbformat": 4,
 "nbformat_minor": 2,
 "cells": [
  {
   "cell_type": "markdown",
   "source": [
    "# 8-1 Decision Tree\r\n",
    "# language : Python\r\n",
    "https://www.youtube.com/watch?v=jVh5NA9ERDA&list=PLqnslRFeH2Upcrywf-u2etjdxxkL8nl7E&index=8"
   ],
   "metadata": {}
  },
  {
   "cell_type": "markdown",
   "source": [
    "## 0. 모델 기초"
   ],
   "metadata": {}
  },
  {
   "cell_type": "markdown",
   "source": [
    "### Entropy\n",
    "$ E = - \\sum p(X) \\cdot log_2(p(X))  , p(X) = \\frac{\\# x}{n}$"
   ],
   "metadata": {}
  },
  {
   "cell_type": "markdown",
   "source": [
    "## 1. 모델 구성 "
   ],
   "metadata": {}
  },
  {
   "cell_type": "code",
   "execution_count": 11,
   "source": [
    "import numpy as np\r\n",
    "from collections import Counter\r\n",
    "\r\n",
    "def entropy(y):\r\n",
    "     hist = np.bincount(y)\r\n",
    "     ps = hist / len(y)\r\n",
    "     return -np.sum([p * np.log2(p) for p in ps if p > 0])\r\n",
    "\r\n",
    "\r\n",
    "class Node:\r\n",
    "    def __init__(self, feature=None, threshold=None, left=None, right=None,*, value=None):\r\n",
    "        self.feature = feature\r\n",
    "        self.threshold = threshold\r\n",
    "        self.left = left\r\n",
    "        self.right = right\r\n",
    "        self.value = value\r\n",
    "\r\n",
    "    def is_leaf_node(self):\r\n",
    "        return self.value is not None  # Node에 value가 있으면 True 반환\r\n",
    "        \r\n",
    "\r\n",
    "\r\n",
    "class DecisionTree:\r\n",
    "    def __init__(self, min_samples_split=2, max_depth=100, n_feats=None):\r\n",
    "        self.min_samples_split = min_samples_split\r\n",
    "        self.max_depth = max_depth\r\n",
    "        self.n_feats = n_feats\r\n",
    "        self.root = None\r\n",
    "\r\n",
    "\r\n",
    "    def fit(self, X, y):\r\n",
    "        # grow tree\r\n",
    "        self.n_feats = X.shape[1] if not self.n_feats else min(self.n_feats, X.shape[1])\r\n",
    "        self.root = self._grow_tree(X, y)\r\n",
    "\r\n",
    "\r\n",
    "    def _grow_tree(self, X, y, depth=0):\r\n",
    "        n_samples, n_features = X.shape\r\n",
    "        n_labels = len(np.unique(y))\r\n",
    "\r\n",
    "        # stopping criteria\r\n",
    "        if (depth >= self.max_depth\r\n",
    "            or n_labels == 1\r\n",
    "            or n_samples < self.min_samples_split):\r\n",
    "            leaf_value = self._most_common_label(y)\r\n",
    "            return Node(value=leaf_value)\r\n",
    "\r\n",
    "        feat_idxs = np.random.choice(n_features, self.n_feats, replace=False)\r\n",
    "\r\n",
    "        # greedy search\r\n",
    "        best_feat, best_thresh = self._best_criteria(X, y, feat_idxs)\r\n",
    "        left_idxs, right_idxs = self._split(X[:, best_feat], best_thresh)\r\n",
    "        left = self._grow_tree(X[left_idxs, :], y[left_idxs], depth+1)\r\n",
    "        right = self._grow_tree(X[right_idxs, :], y[right_idxs], depth+1)\r\n",
    "        return Node(best_feat, best_thresh, left, right)\r\n",
    "\r\n",
    "\r\n",
    "    def _best_criteria(self, X, y, feat_idxs):\r\n",
    "        best_gain = -1\r\n",
    "        split_idx, split_thres = None, None\r\n",
    "        for feat_idx in feat_idxs:\r\n",
    "            X_column = X[:, feat_idx]\r\n",
    "            thresholds = np.unique(X_column)\r\n",
    "            \r\n",
    "            for threshold in thresholds:\r\n",
    "                gain = self._information_gain(y, X_column, threshold)\r\n",
    "\r\n",
    "                if gain > best_gain:\r\n",
    "                    best_gain = gain\r\n",
    "                    split_idx = feat_idx\r\n",
    "                    split_thres = threshold\r\n",
    "        \r\n",
    "        return split_idx, split_thres\r\n",
    "    \r\n",
    "    \r\n",
    "    def _information_gain(self, y, X_column, split_thres):\r\n",
    "        # parent E\r\n",
    "        parent_entropy = entropy(y)\r\n",
    "        # generate split\r\n",
    "        left_idxs, right_idxs = self._split(X_column, split_thres)\r\n",
    "\r\n",
    "        if len(left_idxs) == 0 or len(right_idxs) == 0:\r\n",
    "            return 0\r\n",
    "        # weighted avg child E\r\n",
    "        n = len(y)\r\n",
    "        n_l, n_r = len(left_idxs), len(right_idxs)\r\n",
    "        e_l, e_r = entropy(y[left_idxs]), entropy(y[right_idxs])\r\n",
    "        child_entropy = (n_l/n) * e_l + (n_r/n) * e_r\r\n",
    "\r\n",
    "        # return ig\r\n",
    "        ig = parent_entropy - child_entropy\r\n",
    "        return ig\r\n",
    "\r\n",
    "\r\n",
    "    def _split(self, X_column, split_thres):\r\n",
    "        left_idxs = np.argwhere(X_column <= split_thres).flatten()\r\n",
    "        right_idxs = np.argwhere(X_column > split_thres).flatten()\r\n",
    "        return left_idxs, right_idxs\r\n",
    "\r\n",
    "\r\n",
    "    def predict(self, X):\r\n",
    "        # traverse tree\r\n",
    "        return np.array([self._traverse_tree(x, self.root) for x in X])\r\n",
    "\r\n",
    "\r\n",
    "    def _traverse_tree(self, x, node):\r\n",
    "        if node.is_leaf_node():\r\n",
    "            return node.value\r\n",
    "\r\n",
    "        if x[node.feature] <= node.threshold:\r\n",
    "            return self._traverse_tree(x, node.left)\r\n",
    "        \r\n",
    "        return self._traverse_tree(x, node.right)\r\n",
    "\r\n",
    "    \r\n",
    "    def _most_common_label(self, y):\r\n",
    "        counter = Counter(y)\r\n",
    "        most_common = counter.most_common(1)[0][0]\r\n",
    "        return most_common"
   ],
   "outputs": [],
   "metadata": {}
  },
  {
   "cell_type": "markdown",
   "source": [
    "## 2. sample data만들기"
   ],
   "metadata": {}
  },
  {
   "cell_type": "code",
   "execution_count": 12,
   "source": [
    "import numpy as np\r\n",
    "from sklearn import datasets\r\n",
    "from sklearn.model_selection import train_test_split\r\n",
    "\r\n",
    "def accuracy(y_true, y_pred):\r\n",
    "    accuracy = np.sum(y_true == y_pred) / len(y_true)\r\n",
    "    return accuracy\r\n",
    "\r\n",
    "data = datasets.load_breast_cancer()\r\n",
    "X = data.data\r\n",
    "y = data.target\r\n",
    "\r\n",
    "X_train, X_test, y_train, y_test = train_test_split(X, y, test_size=0.2, random_state=1234)\r\n",
    "\r\n",
    "clf = DecisionTree(max_depth=10)\r\n",
    "clf.fit(X_train, y_train)\r\n",
    "\r\n",
    "y_pred = clf.predict(X_test)\r\n",
    "acc = accuracy(y_test, y_pred)\r\n",
    "\r\n",
    "print('Accuracy:', acc)"
   ],
   "outputs": [
    {
     "output_type": "stream",
     "name": "stdout",
     "text": [
      "Accuracy: 0.9210526315789473\n"
     ]
    }
   ],
   "metadata": {}
  },
  {
   "cell_type": "markdown",
   "source": [
    "## 3. 추가학습"
   ],
   "metadata": {}
  },
  {
   "cell_type": "markdown",
   "source": [
    "### np.bincount() 함수란?"
   ],
   "metadata": {}
  },
  {
   "cell_type": "code",
   "execution_count": 13,
   "source": [
    "import numpy as np"
   ],
   "outputs": [],
   "metadata": {}
  },
  {
   "cell_type": "code",
   "execution_count": 14,
   "source": [
    "y = np.array(np.random.randint(1,4,10))\r\n",
    "print(y)\r\n",
    "print(np.bincount(y))"
   ],
   "outputs": [
    {
     "output_type": "stream",
     "name": "stdout",
     "text": [
      "[2 3 1 2 3 1 3 2 2 3]\n",
      "[0 2 4 4]\n"
     ]
    }
   ],
   "metadata": {}
  },
  {
   "cell_type": "markdown",
   "source": [
    "0부터 갯수를 세준다. 0이 하나도 없지만 0부터 세준다. 그렇다면 숫자가 커도 0부터 세줄까? 음수가 있으면 어떻게 될까?"
   ],
   "metadata": {}
  },
  {
   "cell_type": "code",
   "execution_count": 15,
   "source": [
    "y = np.array(np.random.randint(-3,3,10))\r\n",
    "print(y)\r\n",
    "print(np.bincount(y))"
   ],
   "outputs": [
    {
     "output_type": "stream",
     "name": "stdout",
     "text": [
      "[ 0  0 -1 -2  1 -1 -2 -3 -2 -1]\n"
     ]
    },
    {
     "output_type": "error",
     "ename": "ValueError",
     "evalue": "'list' argument must have no negative elements",
     "traceback": [
      "\u001b[1;31m---------------------------------------------------------------------------\u001b[0m",
      "\u001b[1;31mValueError\u001b[0m                                Traceback (most recent call last)",
      "\u001b[1;32m<ipython-input-15-7c8fc8d74808>\u001b[0m in \u001b[0;36m<module>\u001b[1;34m\u001b[0m\n\u001b[0;32m      1\u001b[0m \u001b[0my\u001b[0m \u001b[1;33m=\u001b[0m \u001b[0mnp\u001b[0m\u001b[1;33m.\u001b[0m\u001b[0marray\u001b[0m\u001b[1;33m(\u001b[0m\u001b[0mnp\u001b[0m\u001b[1;33m.\u001b[0m\u001b[0mrandom\u001b[0m\u001b[1;33m.\u001b[0m\u001b[0mrandint\u001b[0m\u001b[1;33m(\u001b[0m\u001b[1;33m-\u001b[0m\u001b[1;36m3\u001b[0m\u001b[1;33m,\u001b[0m\u001b[1;36m3\u001b[0m\u001b[1;33m,\u001b[0m\u001b[1;36m10\u001b[0m\u001b[1;33m)\u001b[0m\u001b[1;33m)\u001b[0m\u001b[1;33m\u001b[0m\u001b[1;33m\u001b[0m\u001b[0m\n\u001b[0;32m      2\u001b[0m \u001b[0mprint\u001b[0m\u001b[1;33m(\u001b[0m\u001b[0my\u001b[0m\u001b[1;33m)\u001b[0m\u001b[1;33m\u001b[0m\u001b[1;33m\u001b[0m\u001b[0m\n\u001b[1;32m----> 3\u001b[1;33m \u001b[0mprint\u001b[0m\u001b[1;33m(\u001b[0m\u001b[0mnp\u001b[0m\u001b[1;33m.\u001b[0m\u001b[0mbincount\u001b[0m\u001b[1;33m(\u001b[0m\u001b[0my\u001b[0m\u001b[1;33m)\u001b[0m\u001b[1;33m)\u001b[0m\u001b[1;33m\u001b[0m\u001b[1;33m\u001b[0m\u001b[0m\n\u001b[0m",
      "\u001b[1;32m<__array_function__ internals>\u001b[0m in \u001b[0;36mbincount\u001b[1;34m(*args, **kwargs)\u001b[0m\n",
      "\u001b[1;31mValueError\u001b[0m: 'list' argument must have no negative elements"
     ]
    }
   ],
   "metadata": {}
  },
  {
   "cell_type": "code",
   "execution_count": null,
   "source": [
    "y = np.array(np.random.randint(30,32,10))\r\n",
    "print(y)\r\n",
    "print(np.bincount(y))"
   ],
   "outputs": [
    {
     "output_type": "stream",
     "name": "stdout",
     "text": [
      "[31 31 31 31 30 31 31 30 31 31]\n",
      "[0 0 0 0 0 0 0 0 0 0 0 0 0 0 0 0 0 0 0 0 0 0 0 0 0 0 0 0 0 0 2 8]\n"
     ]
    }
   ],
   "metadata": {}
  },
  {
   "cell_type": "markdown",
   "source": [
    "### np.argwhere 이란?"
   ],
   "metadata": {}
  },
  {
   "cell_type": "code",
   "execution_count": 23,
   "source": [
    "a = np.array([3, 2, 1, 10, 9, 8, 4, 5, 6, 7])\r\n",
    "print(a.max())\r\n",
    "print(a.argmax())\r\n",
    "print(np.argwhere(a==5))"
   ],
   "outputs": [
    {
     "output_type": "stream",
     "name": "stdout",
     "text": [
      "10\n",
      "3\n",
      "[[7]]\n"
     ]
    }
   ],
   "metadata": {}
  },
  {
   "cell_type": "code",
   "execution_count": 32,
   "source": [
    "a = np.array([1,1,1,1,1,1])\r\n",
    "idx = np.argwhere(a==1)\r\n",
    "print(idx)\r\n",
    "print(idx.shape)\r\n",
    "print(idx.flatten())\r\n",
    "print(idx.flatten().shape)"
   ],
   "outputs": [
    {
     "output_type": "stream",
     "name": "stdout",
     "text": [
      "[[0]\n",
      " [1]\n",
      " [2]\n",
      " [3]\n",
      " [4]\n",
      " [5]]\n",
      "(6, 1)\n",
      "[0 1 2 3 4 5]\n",
      "(6,)\n"
     ]
    }
   ],
   "metadata": {}
  }
 ]
}