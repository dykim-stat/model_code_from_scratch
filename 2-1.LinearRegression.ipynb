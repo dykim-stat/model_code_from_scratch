{
 "metadata": {
  "language_info": {
   "codemirror_mode": {
    "name": "ipython",
    "version": 3
   },
   "file_extension": ".py",
   "mimetype": "text/x-python",
   "name": "python",
   "nbconvert_exporter": "python",
   "pygments_lexer": "ipython3",
   "version": "3.8.5"
  },
  "orig_nbformat": 4,
  "kernelspec": {
   "name": "python3",
   "display_name": "Python 3.8.5 64-bit ('base': conda)"
  },
  "interpreter": {
   "hash": "b3ba2566441a7c06988d0923437866b63cedc61552a5af99d1f4fb67d367b25f"
  }
 },
 "nbformat": 4,
 "nbformat_minor": 2,
 "cells": [
  {
   "source": [
    "# 2. Linear Regression\n",
    "# language : Python\n",
    "https://www.youtube.com/watch?v=4swNt7PiamQ&list=PLqnslRFeH2Upcrywf-u2etjdxxkL8nl7E&index=2"
   ],
   "cell_type": "markdown",
   "metadata": {}
  },
  {
   "source": [
    "## 1. 모델 구성"
   ],
   "cell_type": "markdown",
   "metadata": {}
  },
  {
   "cell_type": "code",
   "execution_count": 31,
   "metadata": {},
   "outputs": [],
   "source": [
    "import numpy as np\n",
    "\n",
    "class LinearRegression:\n",
    "\n",
    "    def __init__(self, lr=0.001, n_iters=1000):\n",
    "        self.lr = lr\n",
    "        self.n_iters = n_iters\n",
    "        self.weights = None\n",
    "        self.bias = None\n",
    "\n",
    "    def fit(self, X, y):\n",
    "        # init parameters\n",
    "        n_samples, n_features = X.shape\n",
    "        self.weights = np.zeros(n_features)\n",
    "        self.bias = 0\n",
    "\n",
    "        for _ in range(self.n_iters):\n",
    "            y_predicted = np.dot(X, self.weights) + self.bias\n",
    "\n",
    "            dw = (1/n_samples) * np.dot(X.T, (y_predicted - y))\n",
    "            db = (1/n_samples) * np.sum(y_predicted - y)\n",
    "\n",
    "            self.weights -=  self.lr * dw\n",
    "            self.bias -= self.lr * db\n",
    "\n",
    "    def predict(self, X):\n",
    "        y_predicted = np.dot(X, self.weights) + self.bias\n",
    "        return y_predicted\n"
   ]
  },
  {
   "source": [
    "### Update Rules\n",
    "$$ \\hat y = b + wx_i \\\\ w = w - \\alpha \\cdot dw \\\\ b = b - \\alpha \\cdot db $$"
   ],
   "cell_type": "markdown",
   "metadata": {}
  },
  {
   "source": [
    "$$ \\frac{dJ}{dw} = dw = \\frac{1}{N} \\sum^n_{i=1} -2x_i(y_i-(wx_i+b)) = \\frac{1}{N} \\sum^n_{i=1} -2x_i(y_i-\\hat{y}) = \\frac{1}{N} \\sum^n_{i=1} 2x_i(\\hat{y}-y_i) \\\\ \\frac{dJ}{db} = db = \\frac{1}{N} \\sum^n_{i=1} -2(y_i-(wx_i+b)) = \\frac{1}{N} \\sum^n_{i=1} -2(y_i-\\hat{y}) = \\frac{1}{N} \\sum^n_{i=1} (\\hat{y}-y_i) $$"
   ],
   "cell_type": "markdown",
   "metadata": {}
  },
  {
   "source": [
    "## 2. sample data 만들기"
   ],
   "cell_type": "markdown",
   "metadata": {}
  },
  {
   "cell_type": "code",
   "execution_count": 32,
   "metadata": {},
   "outputs": [],
   "source": [
    "import numpy as np\n",
    "from sklearn.model_selection import train_test_split\n",
    "from sklearn import datasets\n",
    "import matplotlib.pyplot as plt"
   ]
  },
  {
   "cell_type": "code",
   "execution_count": 33,
   "metadata": {},
   "outputs": [
    {
     "output_type": "stream",
     "name": "stdout",
     "text": [
      "(80, 1)\n(80,)\n"
     ]
    }
   ],
   "source": [
    "X, y = datasets.make_regression(n_samples=100, n_features=1, noise=20, random_state=4)\n",
    "X_train, X_test, y_train, y_test = train_test_split(X, y, test_size=0.2, random_state=1234)\n",
    "\n",
    "# fig = plt.figure(figsize=(8,6))\n",
    "# plt.scatter(X[:,0], y, color='b', marker='o', s=30)\n",
    "# plt.show()\n",
    "\n",
    "print(X_train.shape)\n",
    "print(y_train.shape)"
   ]
  },
  {
   "source": [
    "## 3. 함수 적용해보기"
   ],
   "cell_type": "markdown",
   "metadata": {}
  },
  {
   "cell_type": "code",
   "execution_count": 34,
   "metadata": {
    "tags": []
   },
   "outputs": [
    {
     "output_type": "stream",
     "name": "stdout",
     "text": [
      "783.815546512549\n"
     ]
    }
   ],
   "source": [
    "regressor = LinearRegression(lr=0.001,n_iters=1000)\n",
    "regressor.fit(X_train, y_train)\n",
    "predicted = regressor.predict(X_test)\n",
    "\n",
    "def mse(y_true, y_predicted):\n",
    "    return np.mean((y_true-y_predicted)**2)\n",
    "\n",
    "mse_value = mse(y_test, predicted)\n",
    "print(mse_value)"
   ]
  },
  {
   "source": [
    "## 4. 배운거 정리 & 느낀점"
   ],
   "cell_type": "markdown",
   "metadata": {}
  },
  {
   "source": [
    "### 경사하강법\n",
    "본 예제는 회귀 계수에 대한 추정을 경사하강법을 통해 진행하고 있다. 간략하게 정리해두자. 함수의 기울기를 이용해 함수의 최소값을 찾는 방법\n",
    "기울기의 값이 양수라는 것은 $x$값이 커질수록 함수 값이 커진다는 것을 의미하고, 반대로 기울기가 음수라면 $x$값이 커질수록 함수의 값이 작아진다."
   ],
   "cell_type": "markdown",
   "metadata": {}
  },
  {
   "source": [
    "- gradient의 방향 성분을 이용하자 \n",
    "\n",
    "특정 포인트 $ x $에서 $ x $가 커질수록 함수값이 커지는 중이라면 음의 방향으로 x를 옮겨야 한다.(기울기의 부호는 양수) 반대로 특정 포인트 $x$에서 $x$가 커질수록 함수값이 작아지는 중이라면 양의 방향으로 $x$로 옮기면 된다. \n",
    " gradient의 방향 성분을 이용하자 **\n",
    "특정 포인트 $ x $에서 $ x $가 커질수록 함수값이 커지는 중이라면 음의 방향으로 x를 옮겨야 한다.(기울기의 부호는 양수) 반대로 특정 포인트 $x$에서 $x$가 커질수록 함수값이 작아지는 중이라면 양의 방향으로 $x$로 옮기면 된다. \n",
    "$$ x_{i+1} = x_i - 이동거리 \\times 기울기의부호 $$"
   ],
   "cell_type": "markdown",
   "metadata": {}
  },
  {
   "source": [
    "- 얼마나 이동시켜야 할까?\n",
    "\n",
    "기울기 값은 극소값에 가까울 수록 그 값이 작아진다. 그렇기에 기울기의 크기에 비례하는 factor를 이용하면 $x$의 값이 극소값에서 멀 때는 많이 이동하고, 극소값에 가까워졌을 때는 조금씩 이동할 수 있게 된다.  \n",
    "최적화하고자 하는 함수 $f(x)$에 대해서 \n",
    "$$ x_{i+1} = x_i - \\alpha \\frac{df}{dx}(x_i)$$\n"
   ],
   "cell_type": "markdown",
   "metadata": {}
  }
 ]
}